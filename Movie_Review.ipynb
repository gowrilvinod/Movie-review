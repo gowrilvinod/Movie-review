{
  "nbformat": 4,
  "nbformat_minor": 0,
  "metadata": {
    "colab": {
      "provenance": [],
      "authorship_tag": "ABX9TyMi1xrxOi+ojsGyoqOATCXG",
      "include_colab_link": true
    },
    "kernelspec": {
      "name": "python3",
      "display_name": "Python 3"
    },
    "language_info": {
      "name": "python"
    }
  },
  "cells": [
    {
      "cell_type": "markdown",
      "metadata": {
        "id": "view-in-github",
        "colab_type": "text"
      },
      "source": [
        "<a href=\"https://colab.research.google.com/github/gowrilvinod/Movie-review/blob/main/Movie_Review.ipynb\" target=\"_parent\"><img src=\"https://colab.research.google.com/assets/colab-badge.svg\" alt=\"Open In Colab\"/></a>"
      ]
    },
    {
      "cell_type": "markdown",
      "source": [
        "Importing dependencies\n"
      ],
      "metadata": {
        "id": "_wRHyk8nqEVN"
      }
    },
    {
      "cell_type": "code",
      "source": [
        "import nltk\n",
        "import numpy as np\n",
        "from nltk.corpus import movie_reviews\n",
        "from nltk.tokenize import word_tokenize\n",
        "from sklearn.model_selection import train_test_split\n",
        "from keras.preprocessing.text import Tokenizer\n",
        "from keras.preprocessing.sequence import pad_sequences\n",
        "from keras.models import Sequential\n",
        "from keras.layers import Embedding, LSTM, Dense, Dropout"
      ],
      "metadata": {
        "id": "pT-oyrGMqIqm"
      },
      "execution_count": null,
      "outputs": []
    },
    {
      "cell_type": "code",
      "source": [
        "nltk.download('punkt')\n",
        "nltk.download('movie_reviews')\n"
      ],
      "metadata": {
        "colab": {
          "base_uri": "https://localhost:8080/"
        },
        "id": "h9czHU33qYjg",
        "outputId": "21b092ff-33c7-492f-b8ca-254ae7e5303a"
      },
      "execution_count": null,
      "outputs": [
        {
          "output_type": "stream",
          "name": "stderr",
          "text": [
            "[nltk_data] Downloading package punkt to /root/nltk_data...\n",
            "[nltk_data]   Unzipping tokenizers/punkt.zip.\n",
            "[nltk_data] Downloading package movie_reviews to /root/nltk_data...\n",
            "[nltk_data]   Unzipping corpora/movie_reviews.zip.\n"
          ]
        },
        {
          "output_type": "execute_result",
          "data": {
            "text/plain": [
              "True"
            ]
          },
          "metadata": {},
          "execution_count": 2
        }
      ]
    },
    {
      "cell_type": "markdown",
      "source": [
        "Loading **data**"
      ],
      "metadata": {
        "id": "G49cSrViqi-P"
      }
    },
    {
      "cell_type": "code",
      "source": [
        "positive_reviews = []\n",
        "for fileid in movie_reviews.fileids('pos'):\n",
        "    words = movie_reviews.words(fileid)\n",
        "    positive_reviews.append(' '.join(words))\n",
        "\n",
        "negative_reviews = []\n",
        "for fileid in movie_reviews.fileids('neg'):\n",
        "    words = movie_reviews.words(fileid)\n",
        "    negative_reviews.append(' '.join(words))"
      ],
      "metadata": {
        "id": "n1y6IHl8qjnE"
      },
      "execution_count": null,
      "outputs": []
    },
    {
      "cell_type": "markdown",
      "source": [
        "Combining positive and negative reviews"
      ],
      "metadata": {
        "id": "WcLJcaFaq9iA"
      }
    },
    {
      "cell_type": "code",
      "source": [
        "reviews = positive_reviews + negative_reviews\n",
        "sentiments = np.concatenate([np.ones(len(positive_reviews)), np.zeros(len(negative_reviews))])"
      ],
      "metadata": {
        "id": "Y7xOmowHq-0m"
      },
      "execution_count": null,
      "outputs": []
    },
    {
      "cell_type": "code",
      "source": [
        "tokenizer = Tokenizer()\n",
        "tokenizer.fit_on_texts(reviews)\n",
        "sequences = tokenizer.texts_to_sequences(reviews)\n",
        "maxlen = 100\n",
        "X = pad_sequences(sequences, maxlen=maxlen)"
      ],
      "metadata": {
        "id": "TPc8F198rGE9"
      },
      "execution_count": null,
      "outputs": []
    },
    {
      "cell_type": "markdown",
      "source": [
        "Spliting data into train and test sets"
      ],
      "metadata": {
        "id": "j-ujQlGZrOjj"
      }
    },
    {
      "cell_type": "code",
      "source": [
        "X_train, X_test, y_train, y_test = train_test_split(X, sentiments, test_size=0.2, random_state=42)"
      ],
      "metadata": {
        "id": "DAorDeplrPs2"
      },
      "execution_count": null,
      "outputs": []
    },
    {
      "cell_type": "markdown",
      "source": [
        "Building LSTM model"
      ],
      "metadata": {
        "id": "3U7-4u9GrWLj"
      }
    },
    {
      "cell_type": "code",
      "source": [
        "model = Sequential()\n",
        "model.add(Embedding(input_dim=len(tokenizer.word_index)+1, output_dim=128, input_length=maxlen))\n",
        "model.add(LSTM(64, dropout=0.2, recurrent_dropout=0.2))\n",
        "model.add(Dense(1, activation='sigmoid'))\n"
      ],
      "metadata": {
        "id": "CpL7jB1trXYf"
      },
      "execution_count": null,
      "outputs": []
    },
    {
      "cell_type": "markdown",
      "source": [
        "Compiling model"
      ],
      "metadata": {
        "id": "i9BBfGIxrsPg"
      }
    },
    {
      "cell_type": "code",
      "source": [
        "model.compile(loss='binary_crossentropy', optimizer='adam', metrics=['accuracy'])"
      ],
      "metadata": {
        "id": "yWsCGBdjrtUz"
      },
      "execution_count": null,
      "outputs": []
    },
    {
      "cell_type": "markdown",
      "source": [
        "Training model"
      ],
      "metadata": {
        "id": "lNPewikHrzIa"
      }
    },
    {
      "cell_type": "code",
      "source": [
        "model.fit(X_train, y_train, batch_size=32, epochs=5, validation_data=(X_test, y_test))"
      ],
      "metadata": {
        "colab": {
          "base_uri": "https://localhost:8080/"
        },
        "id": "20AVrHzwr0I8",
        "outputId": "c9df0212-89ee-4843-e5ea-96b6261446d1"
      },
      "execution_count": null,
      "outputs": [
        {
          "output_type": "stream",
          "name": "stdout",
          "text": [
            "Epoch 1/5\n",
            "50/50 [==============================] - 15s 214ms/step - loss: 0.6907 - accuracy: 0.5375 - val_loss: 0.6733 - val_accuracy: 0.5625\n",
            "Epoch 2/5\n",
            "50/50 [==============================] - 11s 224ms/step - loss: 0.4869 - accuracy: 0.7950 - val_loss: 0.5663 - val_accuracy: 0.7225\n",
            "Epoch 3/5\n",
            "50/50 [==============================] - 12s 237ms/step - loss: 0.1358 - accuracy: 0.9588 - val_loss: 0.7104 - val_accuracy: 0.6825\n",
            "Epoch 4/5\n",
            "50/50 [==============================] - 12s 232ms/step - loss: 0.0592 - accuracy: 0.9856 - val_loss: 0.7736 - val_accuracy: 0.7350\n",
            "Epoch 5/5\n",
            "50/50 [==============================] - 11s 225ms/step - loss: 0.0201 - accuracy: 0.9962 - val_loss: 0.7439 - val_accuracy: 0.6925\n"
          ]
        },
        {
          "output_type": "execute_result",
          "data": {
            "text/plain": [
              "<keras.src.callbacks.History at 0x7bdc16d51de0>"
            ]
          },
          "metadata": {},
          "execution_count": 9
        }
      ]
    },
    {
      "cell_type": "markdown",
      "source": [
        "Testing model"
      ],
      "metadata": {
        "id": "V-9uYaJHs8Dc"
      }
    },
    {
      "cell_type": "code",
      "source": [
        "loss, accuracy = model.evaluate(X_test, y_test)\n",
        "print(\"Test Accuracy:\", accuracy)"
      ],
      "metadata": {
        "colab": {
          "base_uri": "https://localhost:8080/"
        },
        "id": "nOvpz_Rtr2m6",
        "outputId": "52625d4b-d2ba-42c7-d11f-a8b56296f852"
      },
      "execution_count": null,
      "outputs": [
        {
          "output_type": "stream",
          "name": "stdout",
          "text": [
            "13/13 [==============================] - 1s 62ms/step - loss: 0.7439 - accuracy: 0.6925\n",
            "Test Accuracy: 0.6924999952316284\n"
          ]
        }
      ]
    },
    {
      "cell_type": "markdown",
      "source": [
        "Predicting sentiment"
      ],
      "metadata": {
        "id": "bMZuwYZytO86"
      }
    },
    {
      "cell_type": "code",
      "source": [
        "test_review = input(\"Enter the movie review: \")\n",
        "test_sequence = tokenizer.texts_to_sequences([test_review])\n",
        "test_sequence = pad_sequences(test_sequence, maxlen=maxlen)\n",
        "prediction = model.predict(test_sequence)[0][0]\n",
        "\n",
        "if prediction >= 0.5:\n",
        "    print(\"Sentiment: Positive\")\n",
        "else:\n",
        "    print(\"Sentiment: Negative\")"
      ],
      "metadata": {
        "colab": {
          "base_uri": "https://localhost:8080/"
        },
        "id": "CLTtQUbYtBrJ",
        "outputId": "c7a4dea8-23f4-463f-eba2-4517a04ee5e2"
      },
      "execution_count": null,
      "outputs": [
        {
          "output_type": "stream",
          "name": "stdout",
          "text": [
            "Enter the movie review: Average film\n",
            "1/1 [==============================] - 0s 32ms/step\n",
            "Sentiment: Negative\n"
          ]
        }
      ]
    }
  ]
}